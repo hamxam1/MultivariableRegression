{
  "cells": [
    {
      "cell_type": "code",
      "execution_count": 37,
      "metadata": {
        "id": "KVUb6uCYq-2b"
      },
      "outputs": [],
      "source": [
        "import numpy as np\n",
        "import pandas as pd\n",
        "import matplotlib.pyplot as plt"
      ]
    },
    {
      "cell_type": "code",
      "source": [
        "from google.colab import drive\n",
        "drive.mount('/content/drive')"
      ],
      "metadata": {
        "id": "-y1Rx9pnrRlt"
      },
      "execution_count": null,
      "outputs": []
    },
    {
      "cell_type": "code",
      "execution_count": 40,
      "metadata": {
        "id": "oi6cu2vmq-2l"
      },
      "outputs": [],
      "source": [
        "df = pd.read_csv('/content/drive/MyDrive/ex1data2.csv' )\n",
        "\n"
      ]
    },
    {
      "cell_type": "code",
      "source": [
        "X = df[['Size', 'Bedroom']] \n",
        "y = df['Price']\n",
        "m = len(y)\n",
        "X.fillna(X.mean()) \n",
        "X = X.fillna(X.mean()) \n",
        "X.head()"
      ],
      "metadata": {
        "colab": {
          "base_uri": "https://localhost:8080/",
          "height": 204
        },
        "id": "9R_pdVEK3v0q",
        "outputId": "7371a78c-4d12-47a2-c453-fda7b9a5de48"
      },
      "execution_count": 41,
      "outputs": [
        {
          "output_type": "execute_result",
          "data": {
            "text/html": [
              "<div>\n",
              "<style scoped>\n",
              "    .dataframe tbody tr th:only-of-type {\n",
              "        vertical-align: middle;\n",
              "    }\n",
              "\n",
              "    .dataframe tbody tr th {\n",
              "        vertical-align: top;\n",
              "    }\n",
              "\n",
              "    .dataframe thead th {\n",
              "        text-align: right;\n",
              "    }\n",
              "</style>\n",
              "<table border=\"1\" class=\"dataframe\">\n",
              "  <thead>\n",
              "    <tr style=\"text-align: right;\">\n",
              "      <th></th>\n",
              "      <th>Size</th>\n",
              "      <th>Bedroom</th>\n",
              "    </tr>\n",
              "  </thead>\n",
              "  <tbody>\n",
              "    <tr>\n",
              "      <th>0</th>\n",
              "      <td>2104</td>\n",
              "      <td>3</td>\n",
              "    </tr>\n",
              "    <tr>\n",
              "      <th>1</th>\n",
              "      <td>1600</td>\n",
              "      <td>3</td>\n",
              "    </tr>\n",
              "    <tr>\n",
              "      <th>2</th>\n",
              "      <td>2400</td>\n",
              "      <td>3</td>\n",
              "    </tr>\n",
              "    <tr>\n",
              "      <th>3</th>\n",
              "      <td>1416</td>\n",
              "      <td>2</td>\n",
              "    </tr>\n",
              "    <tr>\n",
              "      <th>4</th>\n",
              "      <td>3000</td>\n",
              "      <td>4</td>\n",
              "    </tr>\n",
              "  </tbody>\n",
              "</table>\n",
              "</div>"
            ],
            "text/plain": [
              "   Size  Bedroom\n",
              "0  2104        3\n",
              "1  1600        3\n",
              "2  2400        3\n",
              "3  1416        2\n",
              "4  3000        4"
            ]
          },
          "metadata": {},
          "execution_count": 41
        }
      ]
    },
    {
      "cell_type": "code",
      "execution_count": 42,
      "metadata": {
        "id": "MQtJ9fQQq-2t"
      },
      "outputs": [],
      "source": [
        "def featureNormalize(X):\n",
        "  \n",
        "    X_norm = (X-np.mean(X))/np.std(X) \n",
        "    mu = np.mean(X) \n",
        "    sigma = np.std(X) \n",
        "    return X_norm, mu, sigma \n",
        "\n",
        "X, mean, std = featureNormalize(X)"
      ]
    },
    {
      "cell_type": "code",
      "execution_count": null,
      "metadata": {
        "id": "AAK-T3rhq-2w"
      },
      "outputs": [],
      "source": [
        "X = np.append(np.ones([m,1]), X, axis=1) \n",
        "y = np.array(y).reshape(-1,1) \n",
        "theta = np.zeros([3,1]) \n"
      ]
    },
    {
      "cell_type": "code",
      "execution_count": 44,
      "metadata": {
        "colab": {
          "base_uri": "https://localhost:8080/"
        },
        "id": "9tGSlX8hq-2z",
        "outputId": "8d2d8aca-68bd-4e8f-ec16-2cdffddb62e0"
      },
      "outputs": [
        {
          "output_type": "stream",
          "name": "stdout",
          "text": [
            "65591548106.45744\n"
          ]
        }
      ],
      "source": [
        "\n",
        "def computeCostMulti(X,y, theta):\n",
        "  \n",
        "    m = len(y) \n",
        "    h = X.dot(theta) \n",
        "    J = 1/(2*m)*(np.sum((h-y)**2)) \n",
        "    return J\n",
        "\n",
        "cost = computeCostMulti(X,y,theta) \n",
        "print(cost)"
      ]
    },
    {
      "cell_type": "code",
      "execution_count": 45,
      "metadata": {
        "id": "j0v_7NmIq-22"
      },
      "outputs": [],
      "source": [
        "# Applying Gradient Descent Algorithm\n",
        "def gradientDescentMulti(X, y, theta, alpha, iter):\n",
        "\n",
        "    J_history = [] \n",
        "    m = len(y) \n",
        "    for i in range(iter): \n",
        "        h = X.dot(theta) \n",
        "        theta = theta - ((alpha/m)*(X.T.dot(h-y))) \n",
        "        J_history.append(computeCostMulti(X, y, theta)) \n",
        "    return theta, J_history \n",
        "\n",
        "iter = 500 \n",
        "alpha = 0.03 "
      ]
    },
    {
      "cell_type": "code",
      "execution_count": 46,
      "metadata": {
        "colab": {
          "base_uri": "https://localhost:8080/"
        },
        "id": "G80e3ivNq-27",
        "outputId": "1123328e-4c20-4fd7-912f-6e1a3a49b89b"
      },
      "outputs": [
        {
          "output_type": "stream",
          "name": "stdout",
          "text": [
            "[[340412.57680449]\n",
            " [109372.3081412 ]\n",
            " [ -6502.86652974]]\n"
          ]
        }
      ],
      "source": [
        "new_theta, J_history = gradientDescentMulti(X, y, theta, alpha, iter)\n",
        "print (new_theta)"
      ]
    },
    {
      "cell_type": "code",
      "execution_count": 47,
      "metadata": {
        "colab": {
          "base_uri": "https://localhost:8080/"
        },
        "id": "wpsjhitRq-2_",
        "outputId": "a1823a56-8fdf-431c-a20d-53b8005ee16f"
      },
      "outputs": [
        {
          "output_type": "stream",
          "name": "stdout",
          "text": [
            "2043282558.1276078\n"
          ]
        }
      ],
      "source": [
        "new_cost = computeCostMulti(X,y,new_theta) \n",
        "print(new_cost)"
      ]
    },
    {
      "cell_type": "code",
      "execution_count": 50,
      "metadata": {
        "colab": {
          "base_uri": "https://localhost:8080/",
          "height": 295
        },
        "id": "otOC3pKjq-3G",
        "outputId": "ad54e31b-bf94-449a-dc5c-4bc151f958d8"
      },
      "outputs": [
        {
          "output_type": "display_data",
          "data": {
            "image/png": "[encoded data removed]",
            "text/plain": [
              "<Figure size 432x288 with 1 Axes>"
            ]
          },
          "metadata": {
            "needs_background": "light"
          }
        }
      ],
      "source": [
        "plt.plot(J_history)\n",
        "plt.ylabel('Cost J')\n",
        "plt.xlabel('Number of Iterations')\n",
        "plt.title('Minimizing Cost Using Gradient Descent')\n",
        "theta_1, J_history_1 = gradientDescentMulti(X, y, theta, 0.3, 50)\n",
        "theta_2, J_history_2 = gradientDescentMulti(X, y, theta, 0.1, 50)\n",
        "theta_3, J_history_3 = gradientDescentMulti(X, y, theta, 0.03, 50)\n",
        "theta_4, J_history_4 = gradientDescentMulti(X, y, theta, 0.01, 50)\n",
        "theta_5, J_history_5 = gradientDescentMulti(X, y, theta, 0.003, 50)\n",
        "theta_6, J_history_6 = gradientDescentMulti(X, y, theta, 0.001, 50)\n",
        "theta_7, J_history_7 = gradientDescentMulti(X, y, theta, 0.009, 50)"
      ]
    },
    {
      "cell_type": "code",
      "execution_count": 52,
      "metadata": {
        "colab": {
          "base_uri": "https://localhost:8080/",
          "height": 312
        },
        "id": "Gq-P7vccq-3L",
        "outputId": "ad1f3569-3ea1-45e3-84e6-f0a33c7931d3"
      },
      "outputs": [
        {
          "output_type": "execute_result",
          "data": {
            "text/plain": [
              "<matplotlib.legend.Legend at 0x7fa034e051d0>"
            ]
          },
          "metadata": {},
          "execution_count": 52
        },
        {
          "output_type": "display_data",
          "data": {
            "image/png": "[encoded data removed]",
            "text/plain": [
              "<Figure size 432x288 with 1 Axes>"
            ]
          },
          "metadata": {
            "needs_background": "light"
          }
        }
      ],
      "source": [
        "plt.plot(J_history_1, label='0.3')\n",
        "plt.plot(J_history_2, label='0.1')\n",
        "plt.plot(J_history_3, label='0.03')\n",
        "plt.plot(J_history_4, label='0.01')\n",
        "plt.plot(J_history_5, label='0.003')\n",
        "plt.plot(J_history_6, label='0.001')\n",
        "plt.plot(J_history_7, label='0.009')\n",
        "plt.title('Testing Different Learning Rates')\n",
        "plt.xlabel('Number of Iterations')\n",
        "plt.ylabel('Cost J')\n",
        "plt.legend(bbox_to_anchor=(1.05, 1.0))"
      ]
    },
    {
      "cell_type": "code",
      "execution_count": 30,
      "metadata": {
        "colab": {
          "base_uri": "https://localhost:8080/"
        },
        "id": "wnq4I7LUq-3N",
        "outputId": "627d5fbf-0d7a-4128-af04-bafff0cde922"
      },
      "outputs": [
        {
          "output_type": "stream",
          "name": "stdout",
          "text": [
            "[[ 1.         -0.44604386 -0.22609337]]\n"
          ]
        }
      ],
      "source": [
        "# Perdict Function\n",
        "X = np.array([1650,3])\n",
        "X = (X-mean)/std\n",
        "X = np.append(1, X)\n",
        "X = np.reshape(X, (1,3))\n",
        "print(X)"
      ]
    },
    {
      "cell_type": "code",
      "execution_count": 31,
      "metadata": {
        "colab": {
          "base_uri": "https://localhost:8080/"
        },
        "id": "hRQtaOUwq-3R",
        "outputId": "8d5fd303-926c-4115-95d9-999491267a88"
      },
      "outputs": [
        {
          "output_type": "stream",
          "name": "stdout",
          "text": [
            "[[293097.98526087]]\n"
          ]
        }
      ],
      "source": [
        "\n",
        "def prediction(X, theta):\n",
        "  \n",
        "    return np.dot(X, theta)\n",
        "\n",
        "pred = prediction(X, new_theta)\n",
        "print(pred)"
      ]
    },
    {
      "cell_type": "markdown",
      "source": [
        "## **Finding thetas using normal equation.**\n",
        "**Normal equation: ((X^T.X)^-1).X^T.y**\n",
        "\n",
        "X^T = X transpose, ^-1 means inverse of the expression in the parenthesis."
      ],
      "metadata": {
        "id": "P3fsAa2VerdC"
      }
    },
    {
      "cell_type": "code",
      "execution_count": 32,
      "metadata": {
        "id": "Zs7pKrOKq-3U"
      },
      "outputs": [],
      "source": [
        "\n",
        "def calc_theta_neq(X,y):\n",
        "    \n",
        "    theta = np.linalg.inv(X.T.dot(X)).dot(X.T).dot(y)\n",
        "    return theta"
      ]
    },
    {
      "cell_type": "code",
      "source": [
        "theta = calc_theta_neq(X, y)\n",
        "print(theta)\n",
        "features = np.array([1, 1650, 3]"
      ],
      "metadata": {
        "id": "LZcH6fVDiagG"
      },
      "execution_count": null,
      "outputs": []
    },
    {
      "cell_type": "code",
      "source": [
        "\n",
        "def prediction(X, theta):\n",
        "    \n",
        "    price = theta.dot(features)\n",
        "    return price\n",
        "  \n",
        "\n"
      ],
      "metadata": {
        "id": "2VFsifqmf-sS"
      },
      "execution_count": 19,
      "outputs": []
    },
    {
      "cell_type": "code",
      "source": [
        "\n",
        "price = prediction(theta, features)\n",
        "print(\"The predicted price is: \", round(price))"
      ],
      "metadata": {
        "colab": {
          "base_uri": "https://localhost:8080/"
        },
        "id": "6YamV4kJgrw8",
        "outputId": "4697bf8e-9940-4c06-816a-3c66119c8224"
      },
      "execution_count": 20,
      "outputs": [
        {
          "output_type": "stream",
          "name": "stdout",
          "text": [
            "The predicted price is:  2722510\n"
          ]
        }
      ]
    }
  ],
  "metadata": {
    "kernelspec": {
      "display_name": "Python 3",
      "language": "python",
      "name": "python3"
    },
    "language_info": {
      "codemirror_mode": {
        "name": "ipython",
        "version": 3
      },
      "file_extension": ".py",
      "mimetype": "text/x-python",
      "name": "python",
      "nbconvert_exporter": "python",
      "pygments_lexer": "ipython3",
      "version": "3.8.5"
    },
    "colab": {
      "name": "Linear Regression.ipynb",
      "provenance": []
    },
    "accelerator": "GPU"
  },
  "nbformat": 4,
  "nbformat_minor": 0
}